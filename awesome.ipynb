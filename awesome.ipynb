{
 "cells": [
  {
   "cell_type": "markdown",
   "metadata": {},
   "source": [
    "# 奇思妙想\n",
    "\n",
    "### todo\n",
    "记录下奇怪的问题\n",
    "- 通过代数方式去实现程序的`if else`  \n",
    "- 从欧几里得几何模型推出向量的代数规则，再得到欧几里得空间，从几何抽象到代数。  \n",
    "- 平行的开等边三角形(open equilateral triangle) 的交集也是一个开等边三角形。  \n",
    "\n",
    "### Tree edit distance algorithm\n",
    "A->B树变换的最小变更？  \n",
    "A->B树的变更数小于到一定程度的时候，可以认为近似？  \n",
    "A->B树的变更数 即是 相似度 ？  \n",
    "[revisit TED](https://arxiv.org/pdf/1805.06869.pdf) \n",
    "[tree similarity](https://arxiv.org/pdf/1508.03381.pdf)  \n",
    "\n",
    "另一种思路，重新生成代码，然后渲染成图片，通过图像的方式去识别。  \n",
    "\n",
    "### algbra\n",
    "$$\n",
    "\\left(x+\\frac{a}{3}\\right)^{3} = \\frac{a^{3}}{27}+\\frac{a^{2} x}{3}+a x^{2}+x^{3}\n",
    "$$\n",
    "\n",
    "$$\n",
    "\\left(x+\\frac{a}{4}\\right)^{4} = \\frac{a^{4}}{256}+\\frac{a^{3} x}{16}+\\frac{3 a^{2} x^{2}}{8}+a x^{3}+x^{4}\n",
    "$$\n",
    "\n",
    "\n",
    "### refs\n",
    "[Erich's Packing Center](https://www2.stetson.edu/~efriedma/packing.html)  \n",
    "[代数简介](http://sparkandshine.net/algebraic-structure-primer-group-ring-field-vector-space/)  \n",
    "\n",
    "\n",
    "## AI\n",
    "[and or tree](https://en.wikipedia.org/wiki/And%E2%80%93or_tree)   \n",
    "\n"
   ]
  },
  {
   "cell_type": "code",
   "execution_count": null,
   "metadata": {},
   "outputs": [],
   "source": []
  }
 ],
 "metadata": {
  "kernelspec": {
   "display_name": "Python 3",
   "language": "python",
   "name": "python3"
  },
  "language_info": {
   "codemirror_mode": {
    "name": "ipython",
    "version": 3
   },
   "file_extension": ".py",
   "mimetype": "text/x-python",
   "name": "python",
   "nbconvert_exporter": "python",
   "pygments_lexer": "ipython3",
   "version": "3.7.4"
  }
 },
 "nbformat": 4,
 "nbformat_minor": 2
}
