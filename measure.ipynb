{
 "cells": [
  {
   "cell_type": "markdown",
   "metadata": {},
   "source": [
    "# Measure Theory\n",
    "\n",
    "## 路线\n",
    "- Algebras of Sets(集合代数）\n",
    "\n",
    "### Algebras of Sets\n",
    "> 集合代数发展并描述了集合的基本性质和规律，集合论运算，如并集、交集、补集，以及集合的关系，如等于、包含。\n",
    "\n"
   ]
  }
 ],
 "metadata": {
  "kernelspec": {
   "display_name": "Python 3",
   "language": "python",
   "name": "python3"
  },
  "language_info": {
   "codemirror_mode": {
    "name": "ipython",
    "version": 3
   },
   "file_extension": ".py",
   "mimetype": "text/x-python",
   "name": "python",
   "nbconvert_exporter": "python",
   "pygments_lexer": "ipython3",
   "version": "3.7.4"
  }
 },
 "nbformat": 4,
 "nbformat_minor": 2
}
