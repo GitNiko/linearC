{
 "cells": [
  {
   "cell_type": "markdown",
   "metadata": {},
   "source": [
    "# CNCF\n",
    "\n",
    "## Istio\n",
    "\n",
    "### refs\n",
    "[中文文档](https://archive.istio.io/)  \n",
    "[结构](https://www.servicemesher.com/blog/istio-analysis-1/)  \n",
    "[流量劫持](https://jimmysong.io/posts/envoy-sidecar-injection-in-istio-service-mesh-deep-dive/)  \n",
    "[how kubectl proxy works](https://stackoverflow.com/questions/54332972/what-is-the-purpose-of-kubectl-proxy)   \n",
    "[sign k8s dashboard](https://stackoverflow.com/questions/46664104/how-to-sign-in-kubernetes-dashboard)  \n",
    "[google dapper](https://www.ibm.com/developerworks/cn/web/wa-distributed-systems-request-tracing/index.html)  \n",
    "[istio trace](https://www.infoq.cn/article/pqy*PFPhox9OQQ9iCRTt)  "
   ]
  }
 ],
 "metadata": {
  "kernelspec": {
   "display_name": "Python 3",
   "language": "python",
   "name": "python3"
  },
  "language_info": {
   "codemirror_mode": {
    "name": "ipython",
    "version": 3
   },
   "file_extension": ".py",
   "mimetype": "text/x-python",
   "name": "python",
   "nbconvert_exporter": "python",
   "pygments_lexer": "ipython3",
   "version": "3.7.4"
  }
 },
 "nbformat": 4,
 "nbformat_minor": 2
}
