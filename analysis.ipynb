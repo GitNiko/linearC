{
 "cells": [
  {
   "cell_type": "markdown",
   "metadata": {},
   "source": [
    "# analysis\n",
    "\n",
    "数学分析\n",
    "\n",
    "### D维空间\n",
    "$$\n",
    "\\mathbb { R } ^ { d }\n",
    "$$\n",
    "\n",
    "$$\n",
    "C \\backslash D = \\{ x \\in C | x \\notin D \\}\n",
    "$$\n",
    "\n",
    "$$\n",
    "D \\backslash C = \\{ x \\in D | x \\notin C \\}\n",
    "$$\n",
    "\n",
    "### Euclidean norm 欧几里得范数\n",
    "\n",
    "$$\n",
    "\\| x \\| = \\sqrt { \\langle x , x \\rangle } = \\left( \\sum _ { i = 1 } ^ { d } \\left| x _ { i } \\right| ^ { 2 } \\right) ^ { \\frac { 1 } { 2 } } , \\text { for } x = \\left[ \\begin{array} { c } { x _ { 1 } } \\\\ { \\vdots } \\\\ { x _ { d } } \\end{array} \\right]\n",
    "$$\n",
    "\n",
    "#### Cauchy-Schwarz inequality "
   ]
  }
 ],
 "metadata": {
  "kernelspec": {
   "display_name": "Python 3",
   "language": "python",
   "name": "python3"
  },
  "language_info": {
   "codemirror_mode": {
    "name": "ipython",
    "version": 3
   },
   "file_extension": ".py",
   "mimetype": "text/x-python",
   "name": "python",
   "nbconvert_exporter": "python",
   "pygments_lexer": "ipython3",
   "version": "3.6.2"
  }
 },
 "nbformat": 4,
 "nbformat_minor": 2
}
