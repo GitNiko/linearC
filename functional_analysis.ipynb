{
 "cells": [
  {
   "attachments": {},
   "cell_type": "markdown",
   "metadata": {},
   "source": [
    "# Functional Analysis\n",
    "\n",
    ">泛函分析结合了线性代数和度量拓扑，对微分方程中的问题进行有效阐释，并解决无限多维空间中的函数。内容包括：范数拓扑和拓扑同构、算子的有界性、密实度和有限维度、序列空间和对偶、巴拿赫代数等\n",
    "\n",
    "###  totally ordered sets and partially orrdered sets\n",
    "\n",
    "两者最大的差别在于：偏序中，任意两个元素不一定存在关系。 全序中，任意两个元素必定存在关系\n",
    "\n",
    "偏序的例子，集合之间的关系，两个集合可能不能存在任何关系。  \n",
    "\n",
    "任何全序的子集也是全序\n",
    "\n",
    " \n",
    "#### Hasse diagram  (哈斯图)\n",
    "todo\n",
    "\n",
    "### Complete metric spaces\n",
    "空间中每一个柯西序列的极限都在该空间中，则是完备度量空间。  \n",
    "\n",
    ">Let $X$ be a complete metric space, and let $A$ be a subset of $X$. Then $A$ is complete if and only if $A$ is closed in $\\overline{B}\\left(x_{n}, r_{n}\\right)$ form a nested decreasing sequence of sets. Then there is exactly one point of X in the intersection $\\bigcap_{n \\in \\mathbb{N}} \\overline{B}\\left(x_{n}, r_{n}\\right)$  \n",
    "\n",
    "思路：x是柯西序列=>x ?? \n",
    "\n",
    "\n",
    "自然数是不是完备度量空间？是，因为自然数是closed set。\n",
    "\n",
    "#### 闭球套(The Cantor Intersection Theorem for Complete Metric Spaces)\n",
    "在完备度量空间中的闭球套的交集在一点：\n",
    "> Let $(X, d)$ be a complete metric space, let $\\left(x_{n}\\right) \\subseteq X$ and let $\\left(r_{n}\\right)$ be a sequence of positive real numbers which converges to 0. Suppose that the closed balls \n",
    "\n",
    "证明思路：=>$\\left(x_{n}\\right)_{n=1}^{\\infty}$是柯西序列 => 序列在闭球中$\\left(x_{n}\\right)_{n \\geq m} \\subseteq \\overline{B}\\left(x_{m}, r_{m}\\right)$ => 闭球中至少有一点$x \\in \\bigcap_{n=1}^{\\infty} \\overline{B}\\left(x_{n}, r_{n}\\right)$ => 假设有两个点，利用三角不等式，证明两个点实际上是同一个 => 有且只有一个点\n",
    "\n",
    "\n",
    "#### Baire Category Theorem（BCT）\n",
    "证明思路，根据稠密集定义：空间中某非空开子集于稠密集的交集不为空集$V \\cap S \\neq \\emptyset$。 然后构造一个闭球套，使得\n",
    "$\\overline{B}\\left(x_{1}, r_{1}\\right) \\subseteq V \\cap S \\neq \\emptyset$ \n",
    "\n",
    "\n",
    "> A countable intersection of open sets in a topological space is $G_{\\delta}$ \n",
    "\n",
    "\n",
    "孤立点，稠密子集必须包含孤立点\n",
    "\n",
    "\n",
    "#### refs \n",
    "[complete and compact metric spaces](https://www.maths.tcd.ie/~dwilkins/Courses/212/Course212_Year1991to1992/Course212_Year1991to1992_Section05.pdf) \n",
    "[闭球套 proof](http://mathonline.wikidot.com/the-cantor-intersection-theorem-for-complete-metric-spaces)  \n",
    "[BCT proof](http://mathonline.wikidot.com/the-baire-category-theorem-for-complete-metric-spaces)  \n"
   ]
  },
  {
   "cell_type": "code",
   "execution_count": null,
   "metadata": {},
   "outputs": [],
   "source": []
  }
 ],
 "metadata": {
  "kernelspec": {
   "display_name": "Python 3",
   "language": "python",
   "name": "python3"
  },
  "language_info": {
   "codemirror_mode": {
    "name": "ipython",
    "version": 3
   },
   "file_extension": ".py",
   "mimetype": "text/x-python",
   "name": "python",
   "nbconvert_exporter": "python",
   "pygments_lexer": "ipython3",
   "version": "3.6.2"
  }
 },
 "nbformat": 4,
 "nbformat_minor": 2
}
