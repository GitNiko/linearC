{
 "cells": [
  {
   "cell_type": "markdown",
   "metadata": {},
   "source": [
    "# Functional Analysis\n",
    "\n",
    ">泛函分析结合了线性代数和度量拓扑，对微分方程中的问题进行有效阐释，并解决无限多维空间中的函数。内容包括：范数拓扑和拓扑同构、算子的有界性、密实度和有限维度、序列空间和对偶、巴拿赫代数等\n",
    "\n",
    "###  totally ordered sets and partially orrdered sets\n",
    "\n",
    "两者最大的差别在于：偏序中，任意两个元素不一定存在关系。 全序中，任意两个元素必定存在关系\n",
    "\n",
    "偏序的例子，集合之间的关系，两个集合可能不能存在任何关系。  \n",
    "\n",
    "任何全序的子集也是全序\n",
    "\n",
    " \n",
    "#### Hasse diagram  (哈斯图)\n",
    "todo\n",
    "\n",
    "### Complete metric spaces\n",
    "空间中每一个柯西序列的极限都在该空间中，则是完备度量空间。  \n",
    "\n",
    ">Let $X$ be a complete metric space, and let $A$ be a subset of $X$. Then $A$ is complete if and only if $A$ is closed in $\\overline{B}\\left(x_{n}, r_{n}\\right)$ form a nested decreasing sequence of sets. Then there is exactly one point of X in the intersection $\\bigcap_{n \\in \\mathbb{N}} \\overline{B}\\left(x_{n}, r_{n}\\right)$  \n",
    "\n",
    "思路：x是柯西序列=>x ?? \n",
    "\n",
    "\n",
    "自然数是不是完备度量空间？是，因为自然数closed set。\n",
    "\n",
    "#### 闭球套\n",
    "在完备度量空间中的闭球套的交集在一点：\n",
    "> Let $(X, d)$ be a complete metric space, let $\\left(x_{n}\\right) \\subseteq X$ and let $\\left(r_{n}\\right)$ be a sequence of positive real numbers which converges to 0. Suppose that the closed balls \n",
    "\n",
    "\n",
    "#### Baire Category Theorem（BCT）\n",
    "\n",
    "\n",
    "\n",
    "\n",
    "#### refs \n",
    "[complete and compact metric spaces](https://www.maths.tcd.ie/~dwilkins/Courses/212/Course212_Year1991to1992/Course212_Year1991to1992_Section05.pdf)  \n"
   ]
  }
 ],
 "metadata": {
  "kernelspec": {
   "display_name": "Python 3",
   "language": "python",
   "name": "python3"
  },
  "language_info": {
   "codemirror_mode": {
    "name": "ipython",
    "version": 3
   },
   "file_extension": ".py",
   "mimetype": "text/x-python",
   "name": "python",
   "nbconvert_exporter": "python",
   "pygments_lexer": "ipython3",
   "version": "3.6.2"
  }
 },
 "nbformat": 4,
 "nbformat_minor": 2
}
