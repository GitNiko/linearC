{
 "cells": [
  {
   "cell_type": "markdown",
   "metadata": {},
   "source": [
    "# Functional Analysis\n",
    "\n",
    "###  totally ordered sets and partially orrdered sets\n",
    "\n",
    "两者最大的差别在于：偏序中，任意两个元素不一定存在关系。 全序中，任意两个元素必定存在关系\n",
    "\n",
    "偏序的例子，集合之间的关系，两个集合可能不能存在任何关系。  \n",
    "\n",
    "任何全序的子集也是全序\n",
    "\n",
    "\n",
    "\n",
    "### Hasse diagram  (哈斯图)\n",
    "\n",
    "\n",
    "\n"
   ]
  }
 ],
 "metadata": {
  "kernelspec": {
   "display_name": "Python 3",
   "language": "python",
   "name": "python3"
  },
  "language_info": {
   "codemirror_mode": {
    "name": "ipython",
    "version": 3
   },
   "file_extension": ".py",
   "mimetype": "text/x-python",
   "name": "python",
   "nbconvert_exporter": "python",
   "pygments_lexer": "ipython3",
   "version": "3.6.2"
  }
 },
 "nbformat": 4,
 "nbformat_minor": 2
}
