{
 "cells": [
  {
   "cell_type": "markdown",
   "metadata": {},
   "source": [
    "# Singal and system\n",
    "\n",
    "着重以数学角度切入，建立整个概念。\n",
    "\n",
    "计划内容：\n",
    "- 信号系统概念\n",
    "\n",
    "\n",
    "## 概念\n",
    "信号可以表示一个或多个变量的函数。  \n",
    "\n",
    "连续，离散\n",
    "\n",
    "对现实中连续的型号采样出离散信号\n",
    "\n",
    "### 信号能量\n",
    "无限区间能量：\n",
    "$$\n",
    "E _ { \\infty } \\triangleq \\lim _ { T \\rightarrow \\infty } \\int _ { - T } ^ { T } | x ( t ) | ^ { 2 } \\mathrm { d } t = \\int _ { - \\infty } ^ { + \\infty } | x ( t ) | ^ { 2 } \\mathrm { d } t\n",
    "$$\n",
    "\n",
    "平均功率：\n",
    "$$\n",
    "P _ { \\infty } \\triangleq \\lim _ { T \\rightarrow \\infty } \\frac { 1 } { 2 T } \\int _ { - T } ^ { T } | x ( t ) | ^ { 2 } \\mathrm { d } t\n",
    "$$\n",
    "\n",
    "### 自变量变换\n",
    "\n"
   ]
  },
  {
   "cell_type": "code",
   "execution_count": null,
   "metadata": {},
   "outputs": [],
   "source": []
  }
 ],
 "metadata": {
  "kernelspec": {
   "display_name": "Python 3",
   "language": "python",
   "name": "python3"
  },
  "language_info": {
   "codemirror_mode": {
    "name": "ipython",
    "version": 3
   },
   "file_extension": ".py",
   "mimetype": "text/x-python",
   "name": "python",
   "nbconvert_exporter": "python",
   "pygments_lexer": "ipython3",
   "version": "3.6.2"
  }
 },
 "nbformat": 4,
 "nbformat_minor": 2
}
